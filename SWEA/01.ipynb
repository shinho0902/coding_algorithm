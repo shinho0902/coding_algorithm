{
 "cells": [
  {
   "cell_type": "code",
   "execution_count": 138,
   "metadata": {},
   "outputs": [
    {
     "name": "stdout",
     "output_type": "stream",
     "text": [
      "#1\n",
      "1\n",
      "1 1\n",
      "1 2 1\n",
      "1 3 3 1\n",
      "#2\n",
      "1\n",
      "1 1\n",
      "1 2 1\n",
      "1 3 3 1\n",
      "1 4 6 4 1\n"
     ]
    }
   ],
   "source": [
    "# 2005 파스칼의 삼각형\n",
    "\n",
    "# 입력\n",
    "T = int(input())\n",
    "\n",
    "\n",
    "for t in range(T):\n",
    "    # 삼각형 크기 입력\n",
    "    N = int(input())\n",
    "\n",
    "    # 번호출력\n",
    "    print(f'#{t+1}')\n",
    "    \n",
    "    # 첫째줄\n",
    "    arr = [1]\n",
    "    print(' '.join(map(str,arr)))\n",
    "\n",
    "    # 둘째줄 이상\n",
    "    for k in range(N-1):\n",
    "        next_arr = []\n",
    "        for i in range(len(arr)-1):\n",
    "            next_arr.append(arr[i]+arr[i+1])\n",
    "        next_arr.insert(0,1) # 맨앞에 1추가\n",
    "        next_arr.append(1) # 맨뒤에 1추가\n",
    "        arr = next_arr.copy()\n",
    "        print(' '.join(map(str,arr)))\n",
    "\n"
   ]
  },
  {
   "cell_type": "code",
   "execution_count": 142,
   "metadata": {},
   "outputs": [
    {
     "name": "stdout",
     "output_type": "stream",
     "text": [
      "#1 1\n",
      "#2 0\n",
      "#3 1\n"
     ]
    }
   ],
   "source": [
    "# 1989 초심자의 회문 검사\n",
    "\n",
    "T = int(input())\n",
    "for t in range(T):\n",
    "    txt = input()\n",
    "    re_txt = txt[::-1]\n",
    "    if txt == re_txt:\n",
    "        result = 1\n",
    "    else:\n",
    "        result = 0\n",
    "    print(f'#{t+1} {result}')\n"
   ]
  },
  {
   "cell_type": "code",
   "execution_count": 157,
   "metadata": {},
   "outputs": [
    {
     "name": "stdout",
     "output_type": "stream",
     "text": [
      "#1 3\n",
      "#2 -3\n"
     ]
    }
   ],
   "source": [
    "# 1986 지그재그 숫자\n",
    "\n",
    "T = int(input())\n",
    "\n",
    "for i in range(T):\n",
    "    N = int(input())\n",
    "    num_arr = []\n",
    "    for num in range(1,N+1):\n",
    "        if num % 2 == 0:\n",
    "            num = num * -1\n",
    "        num_arr.append(num)\n",
    "    result = sum(num_arr)\n",
    "    print(f'#{i+1} {result}')\n",
    "\n"
   ]
  },
  {
   "cell_type": "code",
   "execution_count": 169,
   "metadata": {},
   "outputs": [
    {
     "name": "stdout",
     "output_type": "stream",
     "text": [
      "#1 18\n",
      "#2 20\n",
      "#3 24\n"
     ]
    }
   ],
   "source": [
    "# 1984 중간 평균값 구하기\n",
    "\n",
    "T = int(input())\n",
    "for t in range(T):\n",
    "    data = list(map(int,input().split()))\n",
    "    data.sort()\n",
    "    del data[0]\n",
    "    del data[-1]\n",
    "    result = int(round(sum(data)/len(data),0))\n",
    "    print(f'#{t+1} {result}')"
   ]
  },
  {
   "cell_type": "code",
   "execution_count": 173,
   "metadata": {},
   "outputs": [
    {
     "name": "stdout",
     "output_type": "stream",
     "text": [
      "#1 60\n",
      "#2 0\n",
      "#3 -1\n"
     ]
    }
   ],
   "source": [
    "# 3431. 준환이의 운동관리\n",
    "\n",
    "T = int(input())\n",
    "\n",
    "for t in range(1,T+1):\n",
    "    L, U, X = map(int,input().split())\n",
    "    if L<=X and X<=U:\n",
    "        result = 0\n",
    "    elif X<L:\n",
    "        result = L-X\n",
    "    elif U<X:\n",
    "        result = -1\n",
    "    print(f'#{t} {result}')"
   ]
  },
  {
   "cell_type": "code",
   "execution_count": null,
   "metadata": {},
   "outputs": [],
   "source": [
    "# 6730. 장애물 경주 난이도\n",
    "T = int(input())\n",
    "\n",
    "for t in range(T):\n",
    "    N = int(input())\n",
    "    # arr = [10, 70, 30, 50, 90]\n",
    "    arr = list(map(int,input().split()))\n",
    "    cha_arr = []\n",
    "    for i in range(len(arr)):\n",
    "        if i < len(arr)-1:\n",
    "            cha = arr[i+1]-arr[i]\n",
    "            cha_arr.append(cha)\n",
    "    up_result = max(cha_arr)\n",
    "    down_result = -min(cha_arr)\n",
    "\n",
    "    if up_result<0:\n",
    "        up_result = 0\n",
    "    if down_result<0:\n",
    "        down_result = 0\n",
    "\n",
    "    print(f'#{t+1} {up_result} {down_result}')\n",
    "\n"
   ]
  },
  {
   "cell_type": "code",
   "execution_count": null,
   "metadata": {},
   "outputs": [],
   "source": []
  }
 ],
 "metadata": {
  "kernelspec": {
   "display_name": "Python 3.8.10 64-bit",
   "language": "python",
   "name": "python3"
  },
  "language_info": {
   "codemirror_mode": {
    "name": "ipython",
    "version": 3
   },
   "file_extension": ".py",
   "mimetype": "text/x-python",
   "name": "python",
   "nbconvert_exporter": "python",
   "pygments_lexer": "ipython3",
   "version": "3.8.10"
  },
  "orig_nbformat": 4,
  "vscode": {
   "interpreter": {
    "hash": "118464ac1d435bba9516305bdbccb7b95399cc265ef43b52025a1c2ba40a3b56"
   }
  }
 },
 "nbformat": 4,
 "nbformat_minor": 2
}
